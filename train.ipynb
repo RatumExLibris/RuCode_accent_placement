{
 "cells": [
  {
   "cell_type": "code",
   "execution_count": null,
   "id": "2e84edca",
   "metadata": {},
   "outputs": [],
   "source": [
    "import tensorflow as tf\n",
    "from tensorflow.keras.layers import LSTM, Bidirectional, Dense, Dropout, Activation\n",
    "import pandas as pd\n",
    "import numpy as np\n",
    "from tensorflow import keras\n",
    "from sklearn.model_selection import train_test_split\n",
    "from sklearn.preprocessing import LabelEncoder\n",
    "from tensorflow.keras import layers\n",
    "import pickle\n",
    "import codecs\n",
    "import re\n",
    "import json\n",
    "import io"
   ]
  },
  {
   "cell_type": "code",
   "execution_count": null,
   "id": "37282b22",
   "metadata": {},
   "outputs": [],
   "source": [
    "sess = tf.compat.v1.Session(config=tf.compat.v1.ConfigProto(log_device_placement=True))"
   ]
  },
  {
   "cell_type": "code",
   "execution_count": null,
   "id": "c10430d4",
   "metadata": {},
   "outputs": [],
   "source": [
    "from google.colab import drive\n",
    "drive.mount('/content/drive')"
   ]
  },
  {
   "cell_type": "code",
   "execution_count": null,
   "id": "5fde5c57",
   "metadata": {},
   "outputs": [],
   "source": [
    "f = codecs.open(\"/content/drive/MyDrive/RuCode_stress/train_stresses_labels.txt\", \"r\", \"utf-8\")\n",
    "lines = f.read()"
   ]
  },
  {
   "cell_type": "code",
   "execution_count": null,
   "id": "71a3c351",
   "metadata": {},
   "outputs": [],
   "source": [
    "words = lines.split('\\n')\n",
    "words[0:3]"
   ]
  },
  {
   "cell_type": "code",
   "execution_count": null,
   "id": "689cefb9",
   "metadata": {},
   "outputs": [],
   "source": [
    "%%time\n",
    "vowel_regex = re.compile(\"[уеыаоэяиюё]\")\n",
    "accent_index = []\n",
    "\n",
    "for i in range(0, len(words)):\n",
    "    try:\n",
    "        idxs = [j.start() for j in vowel_regex.finditer(words[i])]\n",
    "        accidx = words[i].find('^')-1\n",
    "        accent_index.append(idxs.index(accidx))\n",
    "    except:\n",
    "        accent_index.append(-2)\n",
    "    words[i] = words[i].replace('^', '')\n",
    "\n",
    "    kmers = []\n",
    "    for left in range(0, len(words[i])-2):\n",
    "        kmers.append(words[i][left:left+3])\n",
    "\n",
    "    words[i] = ' '.join(kmers)"
   ]
  },
  {
   "cell_type": "code",
   "execution_count": null,
   "id": "af881fca",
   "metadata": {},
   "outputs": [],
   "source": [
    "df = pd.DataFrame({'words': words, 'accent_index': accent_index})\n",
    "df = df.loc[df['accent_index']!=-2]\n",
    "X_train = df.copy()"
   ]
  },
  {
   "cell_type": "code",
   "execution_count": null,
   "id": "23e24a1a",
   "metadata": {},
   "outputs": [],
   "source": [
    "y_train = X_train['accent_index']\n",
    "y_train = tf.keras.utils.to_categorical(y_train)"
   ]
  },
  {
   "cell_type": "code",
   "execution_count": null,
   "id": "473606fd",
   "metadata": {},
   "outputs": [],
   "source": [
    "tokenizer = tf.keras.preprocessing.text.Tokenizer()\n",
    "tokenizer.fit_on_texts(X_train['words'])\n",
    "vocab_size = len(tokenizer.word_index) + 1\n",
    "\n",
    "tokenizer_json = tokenizer.to_json()\n",
    "with io.open('stress_tokenizer.json', 'w', encoding='utf-8') as f:\n",
    "    f.write(json.dumps(tokenizer_json, ensure_ascii=False))"
   ]
  },
  {
   "cell_type": "code",
   "execution_count": null,
   "id": "de89fa4d",
   "metadata": {},
   "outputs": [],
   "source": [
    "train_seq = tokenizer.texts_to_sequences(X_train['words'])"
   ]
  },
  {
   "cell_type": "code",
   "execution_count": null,
   "id": "47e13b70",
   "metadata": {},
   "outputs": [],
   "source": [
    "max_length = len(max(train_seq, key=len))\n",
    "train_vector = tf.keras.preprocessing.sequence.pad_sequences(train_seq, maxlen=max_length, padding='post', truncating='post')"
   ]
  },
  {
   "cell_type": "code",
   "execution_count": null,
   "id": "73bb1f6c",
   "metadata": {},
   "outputs": [],
   "source": [
    "opt = keras.optimizers.Adam()\n",
    "\n",
    "def model(vocab_size, max_length):\n",
    "    model = tf.keras.models.Sequential([\n",
    "        tf.keras.layers.Embedding(vocab_size, 64, input_length=max_length),\n",
    "        tf.keras.layers.Bidirectional(tf.keras.layers.LSTM(64, return_sequences=True)),\n",
    "        tf.keras.layers.Bidirectional(tf.keras.layers.LSTM(64)),\n",
    "        tf.keras.layers.Dense(128, activation='relu'),\n",
    "        tf.keras.layers.Dropout(0.5),\n",
    "        tf.keras.layers.Dense(13, activation='softmax')\n",
    "    ])\n",
    "\n",
    "    return model\n",
    "\n",
    "model = model(vocab_size, max_length)\n",
    "model.compile(loss='categorical_crossentropy', optimizer=opt, metrics=['accuracy'])\n",
    "model.summary()"
   ]
  },
  {
   "cell_type": "code",
   "execution_count": null,
   "id": "8043f831",
   "metadata": {},
   "outputs": [],
   "source": [
    "model.fit(train_vector, y_train, epochs=20)"
   ]
  },
  {
   "cell_type": "code",
   "execution_count": null,
   "id": "446ea4c5",
   "metadata": {},
   "outputs": [],
   "source": [
    "model.save('stress_model_all_data_20ep.keras')"
   ]
  }
 ],
 "metadata": {
  "kernelspec": {
   "display_name": "Python 3 (ipykernel)",
   "language": "python",
   "name": "python3"
  },
  "language_info": {
   "codemirror_mode": {
    "name": "ipython",
    "version": 3
   },
   "file_extension": ".py",
   "mimetype": "text/x-python",
   "name": "python",
   "nbconvert_exporter": "python",
   "pygments_lexer": "ipython3",
   "version": "3.10.0"
  }
 },
 "nbformat": 4,
 "nbformat_minor": 5
}
